{
 "cells": [
  {
   "cell_type": "code",
   "execution_count": 21,
   "id": "7c483c0c-e86f-4158-93f0-4df28f884f8b",
   "metadata": {},
   "outputs": [],
   "source": [
    "from pulp import LpVariable, LpProblem, LpMaximize, LpStatus, value, LpMinimize"
   ]
  },
  {
   "cell_type": "code",
   "execution_count": 22,
   "id": "ff8d41a3-7c2e-42fd-882e-1c3e0b9acb28",
   "metadata": {},
   "outputs": [
    {
     "name": "stdout",
     "output_type": "stream",
     "text": [
      "Number of Servings per Meal\n",
      "Protein Shake: 6.9519246\n",
      "Salad with Chicken: 0.0\n",
      "Mac n Cheese: 16.720652\n",
      "Chicken, Broccoli, Rice: 18.188514\n",
      "Gnocchi Chicken Sausage: 0.0\n"
     ]
    }
   ],
   "source": [
    "### Initial Linear Programming Model for the Diet Problem \n",
    "\n",
    "# declare your variables\n",
    "protein_shake = LpVariable(\"x1\", 0, None) \n",
    "salad_chicken = LpVariable(\"x2\", 0, None) \n",
    "chick_broc_rice = LpVariable(\"x3\", 0, None) \n",
    "mac_n_cheese = LpVariable(\"x4\", 0, None) # \n",
    "gnocchi_sausage = LpVariable(\"x5\", 0, None) \n",
    "\n",
    "# defines the problem\n",
    "prob = LpProblem(\"problem\", LpMinimize)\n",
    "\n",
    "# defines the constraints\n",
    "prob += (90*protein_shake) + (1118*salad_chicken) + (450.6*chick_broc_rice) + (636*mac_n_cheese) + (1536*gnocchi_sausage) <= (5000*7)\n",
    "prob += (195*protein_shake) + (598*salad_chicken) + (528*chick_broc_rice) + (319*mac_n_cheese) + (371*gnocchi_sausage)  >= (2000*7)\n",
    "prob += (34*protein_shake) + (69.92*salad_chicken) + (63.87*chick_broc_rice) + (17.57*mac_n_cheese) + (21.3*gnocchi_sausage) >= (50*7)\n",
    "prob += (25*protein_shake) + (1.1*salad_chicken) + (2*mac_n_cheese) >= (20*7)                           \n",
    "prob += (567*protein_shake) + (147.9*salad_chicken) + (74*chick_broc_rice) + (228*mac_n_cheese) + (378.192*gnocchi_sausage) >= (1300*7)\n",
    "prob += (0.38*protein_shake) + (3.54*salad_chicken) + (3.39*chick_broc_rice) + (3.69*mac_n_cheese) + (8.29*gnocchi_sausage) >= (18*7)\n",
    "prob += (170*protein_shake) + (1697*salad_chicken) + (1164.7*chick_broc_rice) + (630*mac_n_cheese) + (1788.8*gnocchi_sausage) >= (4700*7)\n",
    "#prob += protein_shake >= 1\n",
    "#prob += salad_chicken >= 1\n",
    "#prob += chick_broc_rice >= 1\n",
    "#prob += mac_n_cheese >= 1\n",
    "#prob += gnocchi_sausage >= 1\n",
    "\n",
    "\n",
    "# defines the objective function to maximize\n",
    "prob += 1.85*protein_shake + 4.32*salad_chicken + 1.75*chick_broc_rice + 1.51*mac_n_cheese + 5.59*gnocchi_sausage\n",
    "\n",
    "# solve the problem\n",
    "status = prob.solve()\n",
    "LpStatus[status]\n",
    "\n",
    "# print the results\n",
    "print(\"Number of Servings per Meal\")\n",
    "print('Protein Shake:', value(protein_shake))\n",
    "print('Salad with Chicken:', value(salad_chicken))\n",
    "print('Mac n Cheese:', value(mac_n_cheese))\n",
    "print('Chicken, Broccoli, Rice:', value(chick_broc_rice))\n",
    "print('Gnocchi Chicken Sausage:', value(gnocchi_sausage))"
   ]
  },
  {
   "cell_type": "code",
   "execution_count": 23,
   "id": "2cdb832d-5efa-4011-9333-a47ddda75c0b",
   "metadata": {},
   "outputs": [
    {
     "data": {
      "text/plain": [
       "69.93914453000001"
      ]
     },
     "execution_count": 23,
     "metadata": {},
     "output_type": "execute_result"
    }
   ],
   "source": [
    "### Total Weekly Cost\n",
    "weekly_cost = 1.85*value(protein_shake) + 4.32*value(salad_chicken) + 1.75*value(chick_broc_rice) + 1.51*value(mac_n_cheese) + 5.59*value(gnocchi_sausage)\n",
    "weekly_cost"
   ]
  },
  {
   "cell_type": "code",
   "execution_count": 24,
   "id": "7e864918-d262-4dcf-8853-4ad35ccd4447",
   "metadata": {},
   "outputs": [
    {
     "name": "stdout",
     "output_type": "stream",
     "text": [
      "Number of Servings per Meal\n",
      "Protein Shake: 6.7157969\n",
      "Salad with Chicken: 1.0\n",
      "Mac n Cheese: 15.798787\n",
      "Chicken, Broccoli, Rice: 15.728753\n",
      "Gnocchi Chicken Sausage: 1.0\n"
     ]
    }
   ],
   "source": [
    "### Diet Problem with one serving minimum for each meal\n",
    "\n",
    "# declare your variables\n",
    "protein_shake = LpVariable(\"x1\", 0, None) \n",
    "salad_chicken = LpVariable(\"x2\", 0, None) \n",
    "chick_broc_rice = LpVariable(\"x3\", 0, None) \n",
    "mac_n_cheese = LpVariable(\"x4\", 0, None) # \n",
    "gnocchi_sausage = LpVariable(\"x5\", 0, None) \n",
    "\n",
    "# defines the problem\n",
    "prob = LpProblem(\"problem\", LpMinimize)\n",
    "\n",
    "# defines the constraints\n",
    "prob += (90*protein_shake) + (1118*salad_chicken) + (450.6*chick_broc_rice) + (636*mac_n_cheese) + (1536*gnocchi_sausage) <= (5000*7)\n",
    "prob += (195*protein_shake) + (598*salad_chicken) + (528*chick_broc_rice) + (319*mac_n_cheese) + (371*gnocchi_sausage)  >= (2000*7)\n",
    "prob += (34*protein_shake) + (69.92*salad_chicken) + (63.87*chick_broc_rice) + (17.57*mac_n_cheese) + (21.3*gnocchi_sausage) >= (50*7)\n",
    "prob += (25*protein_shake) + (1.1*salad_chicken) + (2*mac_n_cheese) >= (20*7)                           \n",
    "prob += (567*protein_shake) + (147.9*salad_chicken) + (74*chick_broc_rice) + (228*mac_n_cheese) + (378.192*gnocchi_sausage) >= (1300*7)\n",
    "prob += (0.38*protein_shake) + (3.54*salad_chicken) + (3.39*chick_broc_rice) + (3.69*mac_n_cheese) + (8.29*gnocchi_sausage) >= (18*7)\n",
    "prob += (170*protein_shake) + (1697*salad_chicken) + (1164.7*chick_broc_rice) + (630*mac_n_cheese) + (1788.8*gnocchi_sausage) >= (4700*7)\n",
    "prob += protein_shake >= 1\n",
    "prob += salad_chicken >= 1\n",
    "prob += chick_broc_rice >= 1\n",
    "prob += mac_n_cheese >= 1\n",
    "prob += gnocchi_sausage >= 1\n",
    "\n",
    "\n",
    "# defines the objective function to maximize\n",
    "prob += 1.85*protein_shake + 4.32*salad_chicken + 1.75*chick_broc_rice + 1.51*mac_n_cheese + 5.59*gnocchi_sausage\n",
    "\n",
    "# solve the problem\n",
    "status = prob.solve()\n",
    "LpStatus[status]\n",
    "\n",
    "# print the results\n",
    "print(\"Number of Servings per Meal\")\n",
    "print('Protein Shake:', value(protein_shake))\n",
    "print('Salad with Chicken:', value(salad_chicken))\n",
    "print('Mac n Cheese:', value(mac_n_cheese))\n",
    "print('Chicken, Broccoli, Rice:', value(chick_broc_rice))\n",
    "print('Gnocchi Chicken Sausage:', value(gnocchi_sausage))"
   ]
  },
  {
   "cell_type": "code",
   "execution_count": 25,
   "id": "2e476ee8-9f69-4a36-b7e3-2bebf29992fa",
   "metadata": {},
   "outputs": [
    {
     "data": {
      "text/plain": [
       "73.71571038500001"
      ]
     },
     "execution_count": 25,
     "metadata": {},
     "output_type": "execute_result"
    }
   ],
   "source": [
    "weekly_cost = 1.85*value(protein_shake) + 4.32*value(salad_chicken) + 1.75*value(chick_broc_rice) + 1.51*value(mac_n_cheese) + 5.59*value(gnocchi_sausage)\n",
    "weekly_cost"
   ]
  },
  {
   "cell_type": "code",
   "execution_count": 26,
   "id": "ab9d44b5-d3e6-435c-96ca-83b4dbc845ec",
   "metadata": {},
   "outputs": [
    {
     "name": "stdout",
     "output_type": "stream",
     "text": [
      "Status: Optimal\n",
      "Total Cost = $ 69.93914423300001\n",
      "Optimal Servings:\n",
      "Cauliflower_Gnocchi_with_Chicken_Sausage = 0.0\n",
      "Chicken,_Broccoli,_and_Rice = 2.5983591\n",
      "Mac_n_Cheese_with_Broccoli = 2.3886646\n",
      "Protein_Shake = 0.99313208\n",
      "Salad_with_Chicken = 0.0\n"
     ]
    }
   ],
   "source": [
    "### ChatGPT Code Output\n",
    "\n",
    "from pulp import *\n",
    "\n",
    "# Create a LP minimization problem\n",
    "prob = LpProblem(\"Weekly Diet Problem\", LpMinimize)\n",
    "\n",
    "# Decision variables\n",
    "x1 = LpVariable(\"Protein Shake\", lowBound=0, cat='Continuous')\n",
    "x2 = LpVariable(\"Salad with Chicken\", lowBound=0, cat='Continuous')\n",
    "x3 = LpVariable(\"Mac n Cheese with Broccoli\", lowBound=0, cat='Continuous')\n",
    "x4 = LpVariable(\"Chicken, Broccoli, and Rice\", lowBound=0, cat='Continuous')\n",
    "x5 = LpVariable(\"Cauliflower Gnocchi with Chicken Sausage\", lowBound=0, cat='Continuous')\n",
    "\n",
    "# Objective function\n",
    "prob += 7 * (1.85 * x1 + 4.32 * x2 + 1.51 * x3 + 1.75 * x4 + 5.59 * x5), \"Total Cost\"  # Adjusted for a week\n",
    "\n",
    "# Constraints\n",
    "prob += 7 * (90 * x1 + 1118 * x2 + 450.6 * x4 + 636 * x3 + 1536 * x5) <= 5000 * 7, \"Sodium\"  # Adjusted for a week\n",
    "prob += 7 * (195 * x1 + 598 * x2 + 528 * x4 + 319 * x3 + 371 * x5) >= 2000 * 7, \"Energy\"  # Adjusted for a week\n",
    "prob += 7 * (34 * x1 + 69.92 * x2 + 63.87 * x4 + 17.57 * x3 + 21.3 * x5) >= 50 * 7, \"Protein\"  # Adjusted for a week\n",
    "prob += 7 * (25 * x1 + 1.1 * x2 + 2 * x3) >= 20 * 7, \"Vitamin D\"  # Adjusted for a week\n",
    "prob += 7 * (567 * x1 + 147.9 * x2 + 74 * x4 + 228 * x3 + 378.192 * x5) >= 1300 * 7, \"Calcium\"  # Adjusted for a week\n",
    "prob += 7 * (0.38 * x1 + 3.54 * x2 + 3.69 * x3 + 3.39 * x4 + 8.29 * x5) >= 18 * 7, \"Iron\"  # Adjusted for a week\n",
    "prob += 7 * (170 * x1 + 1697 * x2 + 1164.7 * x4 + 630 * x3 + 1788.8 * x5) >= 4700 * 7, \"Potassium\"  # Adjusted for a week\n",
    "\n",
    "# Solve the problem\n",
    "prob.solve()\n",
    "\n",
    "# Print the results\n",
    "print(\"Status:\", LpStatus[prob.status])\n",
    "print(\"Total Cost = $\", value(prob.objective))\n",
    "print(\"Optimal Servings:\")\n",
    "for v in prob.variables():\n",
    "    print(v.name, \"=\", v.varValue)\n"
   ]
  },
  {
   "cell_type": "code",
   "execution_count": null,
   "id": "58a06e86-e3ec-4c55-a1b9-35dfd47a9920",
   "metadata": {},
   "outputs": [],
   "source": []
  }
 ],
 "metadata": {
  "kernelspec": {
   "display_name": "Python 3",
   "language": "python",
   "name": "python3"
  },
  "language_info": {
   "codemirror_mode": {
    "name": "ipython",
    "version": 3
   },
   "file_extension": ".py",
   "mimetype": "text/x-python",
   "name": "python",
   "nbconvert_exporter": "python",
   "pygments_lexer": "ipython3",
   "version": "3.10.13"
  }
 },
 "nbformat": 4,
 "nbformat_minor": 5
}
